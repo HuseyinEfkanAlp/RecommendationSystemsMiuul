{
 "cells": [
  {
   "cell_type": "markdown",
   "id": "1c83b5d5-2d91-4ed1-b212-54f53282fda6",
   "metadata": {},
   "source": [
    "## Model-Based Collaborative Filtering: Matrix Factorization"
   ]
  },
  {
   "cell_type": "code",
   "execution_count": 2,
   "id": "ba98c00b-9d1a-434c-a64b-5e54f36d9af8",
   "metadata": {
    "collapsed": true,
    "jupyter": {
     "outputs_hidden": true
    },
    "tags": []
   },
   "outputs": [
    {
     "name": "stdout",
     "output_type": "stream",
     "text": [
      "Collecting surprise\n",
      "  Downloading surprise-0.1-py2.py3-none-any.whl (1.8 kB)\n",
      "Collecting scikit-surprise\n",
      "  Downloading scikit-surprise-1.1.3.tar.gz (771 kB)\n",
      "\u001b[2K     \u001b[90m━━━━━━━━━━━━━━━━━━━━━━━━━━━━━━━━━━━━━\u001b[0m \u001b[32m772.0/772.0 kB\u001b[0m \u001b[31m806.4 kB/s\u001b[0m eta \u001b[36m0:00:00\u001b[0m00:01\u001b[0m00:01\u001b[0m\n",
      "\u001b[?25h  Preparing metadata (setup.py) ... \u001b[?25ldone\n",
      "\u001b[?25hRequirement already satisfied: joblib>=1.0.0 in /Users/huseyinefkanalp/opt/anaconda3/lib/python3.9/site-packages (from scikit-surprise->surprise) (1.1.0)\n",
      "Requirement already satisfied: numpy>=1.17.3 in /Users/huseyinefkanalp/opt/anaconda3/lib/python3.9/site-packages (from scikit-surprise->surprise) (1.21.5)\n",
      "Requirement already satisfied: scipy>=1.3.2 in /Users/huseyinefkanalp/opt/anaconda3/lib/python3.9/site-packages (from scikit-surprise->surprise) (1.9.1)\n",
      "Building wheels for collected packages: scikit-surprise\n",
      "  Building wheel for scikit-surprise (setup.py) ... \u001b[?25ldone\n",
      "\u001b[?25h  Created wheel for scikit-surprise: filename=scikit_surprise-1.1.3-cp39-cp39-macosx_10_9_x86_64.whl size=1148084 sha256=ce49f0e8c4a53bcd6ab27bd1e2fe30194f0a37cf8530ab6aef965e3bbde96f95\n",
      "  Stored in directory: /Users/huseyinefkanalp/Library/Caches/pip/wheels/10/bc/66/1e588b3f2aedb617b1bedc0f24981c917c95246a020c7c1975\n",
      "Successfully built scikit-surprise\n",
      "Installing collected packages: scikit-surprise, surprise\n",
      "Successfully installed scikit-surprise-1.1.3 surprise-0.1\n"
     ]
    }
   ],
   "source": [
    "!pip install surprise"
   ]
  },
  {
   "cell_type": "code",
   "execution_count": 3,
   "id": "063ea26f-50b8-46fa-8deb-3b762c831a1a",
   "metadata": {},
   "outputs": [],
   "source": [
    "import pandas as pd\n",
    "pd.set_option(\"display.max_columns\", None)\n",
    "from surprise import Reader, SVD, Dataset, accuracy\n",
    "from surprise.model_selection import GridSearchCV, train_test_split, cross_validate"
   ]
  },
  {
   "cell_type": "markdown",
   "id": "4920d984-69b7-4925-a3fe-55e3dc57d8d3",
   "metadata": {},
   "source": [
    "## Veri Setinin Hazırlanması"
   ]
  },
  {
   "cell_type": "code",
   "execution_count": 5,
   "id": "a438f074-f5fc-4f13-afd2-c7fc1741d369",
   "metadata": {},
   "outputs": [
    {
     "data": {
      "text/html": [
       "<div>\n",
       "<style scoped>\n",
       "    .dataframe tbody tr th:only-of-type {\n",
       "        vertical-align: middle;\n",
       "    }\n",
       "\n",
       "    .dataframe tbody tr th {\n",
       "        vertical-align: top;\n",
       "    }\n",
       "\n",
       "    .dataframe thead th {\n",
       "        text-align: right;\n",
       "    }\n",
       "</style>\n",
       "<table border=\"1\" class=\"dataframe\">\n",
       "  <thead>\n",
       "    <tr style=\"text-align: right;\">\n",
       "      <th></th>\n",
       "      <th>movieId</th>\n",
       "      <th>title</th>\n",
       "      <th>genres</th>\n",
       "      <th>userId</th>\n",
       "      <th>rating</th>\n",
       "      <th>timestamp</th>\n",
       "    </tr>\n",
       "  </thead>\n",
       "  <tbody>\n",
       "    <tr>\n",
       "      <th>0</th>\n",
       "      <td>1</td>\n",
       "      <td>Toy Story (1995)</td>\n",
       "      <td>Adventure|Animation|Children|Comedy|Fantasy</td>\n",
       "      <td>3.0</td>\n",
       "      <td>4.0</td>\n",
       "      <td>1999-12-11 13:36:47</td>\n",
       "    </tr>\n",
       "    <tr>\n",
       "      <th>1</th>\n",
       "      <td>1</td>\n",
       "      <td>Toy Story (1995)</td>\n",
       "      <td>Adventure|Animation|Children|Comedy|Fantasy</td>\n",
       "      <td>6.0</td>\n",
       "      <td>5.0</td>\n",
       "      <td>1997-03-13 17:50:52</td>\n",
       "    </tr>\n",
       "    <tr>\n",
       "      <th>2</th>\n",
       "      <td>1</td>\n",
       "      <td>Toy Story (1995)</td>\n",
       "      <td>Adventure|Animation|Children|Comedy|Fantasy</td>\n",
       "      <td>8.0</td>\n",
       "      <td>4.0</td>\n",
       "      <td>1996-06-05 13:37:51</td>\n",
       "    </tr>\n",
       "    <tr>\n",
       "      <th>3</th>\n",
       "      <td>1</td>\n",
       "      <td>Toy Story (1995)</td>\n",
       "      <td>Adventure|Animation|Children|Comedy|Fantasy</td>\n",
       "      <td>10.0</td>\n",
       "      <td>4.0</td>\n",
       "      <td>1999-11-25 02:44:47</td>\n",
       "    </tr>\n",
       "    <tr>\n",
       "      <th>4</th>\n",
       "      <td>1</td>\n",
       "      <td>Toy Story (1995)</td>\n",
       "      <td>Adventure|Animation|Children|Comedy|Fantasy</td>\n",
       "      <td>11.0</td>\n",
       "      <td>4.5</td>\n",
       "      <td>2009-01-02 01:13:41</td>\n",
       "    </tr>\n",
       "  </tbody>\n",
       "</table>\n",
       "</div>"
      ],
      "text/plain": [
       "   movieId             title                                       genres  \\\n",
       "0        1  Toy Story (1995)  Adventure|Animation|Children|Comedy|Fantasy   \n",
       "1        1  Toy Story (1995)  Adventure|Animation|Children|Comedy|Fantasy   \n",
       "2        1  Toy Story (1995)  Adventure|Animation|Children|Comedy|Fantasy   \n",
       "3        1  Toy Story (1995)  Adventure|Animation|Children|Comedy|Fantasy   \n",
       "4        1  Toy Story (1995)  Adventure|Animation|Children|Comedy|Fantasy   \n",
       "\n",
       "   userId  rating            timestamp  \n",
       "0     3.0     4.0  1999-12-11 13:36:47  \n",
       "1     6.0     5.0  1997-03-13 17:50:52  \n",
       "2     8.0     4.0  1996-06-05 13:37:51  \n",
       "3    10.0     4.0  1999-11-25 02:44:47  \n",
       "4    11.0     4.5  2009-01-02 01:13:41  "
      ]
     },
     "execution_count": 5,
     "metadata": {},
     "output_type": "execute_result"
    }
   ],
   "source": [
    "movie = pd.read_csv(\"movie_lens_dataset/movie.csv\")\n",
    "rating = pd.read_csv(\"movie_lens_dataset/rating.csv\")\n",
    "df = movie.merge(rating, how=\"left\", on=\"movieId\")\n",
    "df.head()"
   ]
  },
  {
   "cell_type": "code",
   "execution_count": 7,
   "id": "2c474a98-2379-478d-a114-1f6b8b709909",
   "metadata": {},
   "outputs": [],
   "source": [
    "movie_ids = [130219, 356, 4422, 541]\n",
    "movies = [\"The Dark Knight (2011)\",\n",
    "         \"Cries and Whispers (Viskningar och rop) (1972)\",\n",
    "         \"Forrest Gump (1994)\",\n",
    "         \"Blade Runner (1982)\"]"
   ]
  },
  {
   "cell_type": "code",
   "execution_count": 10,
   "id": "1a2a3a34-e030-4b27-8f86-ebd2b61dfe51",
   "metadata": {},
   "outputs": [
    {
     "data": {
      "text/html": [
       "<div>\n",
       "<style scoped>\n",
       "    .dataframe tbody tr th:only-of-type {\n",
       "        vertical-align: middle;\n",
       "    }\n",
       "\n",
       "    .dataframe tbody tr th {\n",
       "        vertical-align: top;\n",
       "    }\n",
       "\n",
       "    .dataframe thead th {\n",
       "        text-align: right;\n",
       "    }\n",
       "</style>\n",
       "<table border=\"1\" class=\"dataframe\">\n",
       "  <thead>\n",
       "    <tr style=\"text-align: right;\">\n",
       "      <th></th>\n",
       "      <th>movieId</th>\n",
       "      <th>title</th>\n",
       "      <th>genres</th>\n",
       "      <th>userId</th>\n",
       "      <th>rating</th>\n",
       "      <th>timestamp</th>\n",
       "    </tr>\n",
       "  </thead>\n",
       "  <tbody>\n",
       "    <tr>\n",
       "      <th>2457839</th>\n",
       "      <td>356</td>\n",
       "      <td>Forrest Gump (1994)</td>\n",
       "      <td>Comedy|Drama|Romance|War</td>\n",
       "      <td>4.0</td>\n",
       "      <td>4.0</td>\n",
       "      <td>1996-08-24 09:28:42</td>\n",
       "    </tr>\n",
       "    <tr>\n",
       "      <th>2457840</th>\n",
       "      <td>356</td>\n",
       "      <td>Forrest Gump (1994)</td>\n",
       "      <td>Comedy|Drama|Romance|War</td>\n",
       "      <td>7.0</td>\n",
       "      <td>4.0</td>\n",
       "      <td>2002-01-16 19:02:55</td>\n",
       "    </tr>\n",
       "    <tr>\n",
       "      <th>2457841</th>\n",
       "      <td>356</td>\n",
       "      <td>Forrest Gump (1994)</td>\n",
       "      <td>Comedy|Drama|Romance|War</td>\n",
       "      <td>8.0</td>\n",
       "      <td>5.0</td>\n",
       "      <td>1996-06-05 13:44:19</td>\n",
       "    </tr>\n",
       "    <tr>\n",
       "      <th>2457842</th>\n",
       "      <td>356</td>\n",
       "      <td>Forrest Gump (1994)</td>\n",
       "      <td>Comedy|Drama|Romance|War</td>\n",
       "      <td>9.0</td>\n",
       "      <td>4.0</td>\n",
       "      <td>2001-07-01 20:26:38</td>\n",
       "    </tr>\n",
       "    <tr>\n",
       "      <th>2457843</th>\n",
       "      <td>356</td>\n",
       "      <td>Forrest Gump (1994)</td>\n",
       "      <td>Comedy|Drama|Romance|War</td>\n",
       "      <td>10.0</td>\n",
       "      <td>3.0</td>\n",
       "      <td>1999-11-25 02:32:02</td>\n",
       "    </tr>\n",
       "  </tbody>\n",
       "</table>\n",
       "</div>"
      ],
      "text/plain": [
       "         movieId                title                    genres  userId  \\\n",
       "2457839      356  Forrest Gump (1994)  Comedy|Drama|Romance|War     4.0   \n",
       "2457840      356  Forrest Gump (1994)  Comedy|Drama|Romance|War     7.0   \n",
       "2457841      356  Forrest Gump (1994)  Comedy|Drama|Romance|War     8.0   \n",
       "2457842      356  Forrest Gump (1994)  Comedy|Drama|Romance|War     9.0   \n",
       "2457843      356  Forrest Gump (1994)  Comedy|Drama|Romance|War    10.0   \n",
       "\n",
       "         rating            timestamp  \n",
       "2457839     4.0  1996-08-24 09:28:42  \n",
       "2457840     4.0  2002-01-16 19:02:55  \n",
       "2457841     5.0  1996-06-05 13:44:19  \n",
       "2457842     4.0  2001-07-01 20:26:38  \n",
       "2457843     3.0  1999-11-25 02:32:02  "
      ]
     },
     "execution_count": 10,
     "metadata": {},
     "output_type": "execute_result"
    }
   ],
   "source": [
    "sample_df = df[df.movieId.isin(movie_ids)]\n",
    "sample_df.head()"
   ]
  },
  {
   "cell_type": "code",
   "execution_count": 11,
   "id": "76cc0669-6dc4-46c3-92fa-6d720e50fd22",
   "metadata": {},
   "outputs": [
    {
     "data": {
      "text/plain": [
       "(97343, 6)"
      ]
     },
     "execution_count": 11,
     "metadata": {},
     "output_type": "execute_result"
    }
   ],
   "source": [
    "sample_df.shape"
   ]
  },
  {
   "cell_type": "code",
   "execution_count": 12,
   "id": "0ee74eac-ef49-456a-8f4c-c7733d9f11cc",
   "metadata": {},
   "outputs": [],
   "source": [
    "user_movie_df = sample_df.pivot_table(index=[\"userId\"], columns=[\"title\"], values = \"rating\")"
   ]
  },
  {
   "cell_type": "code",
   "execution_count": 13,
   "id": "fcce3fc8-6203-4ca4-aaaf-2b5a06fe71e4",
   "metadata": {},
   "outputs": [
    {
     "data": {
      "text/html": [
       "<div>\n",
       "<style scoped>\n",
       "    .dataframe tbody tr th:only-of-type {\n",
       "        vertical-align: middle;\n",
       "    }\n",
       "\n",
       "    .dataframe tbody tr th {\n",
       "        vertical-align: top;\n",
       "    }\n",
       "\n",
       "    .dataframe thead th {\n",
       "        text-align: right;\n",
       "    }\n",
       "</style>\n",
       "<table border=\"1\" class=\"dataframe\">\n",
       "  <thead>\n",
       "    <tr style=\"text-align: right;\">\n",
       "      <th>title</th>\n",
       "      <th>Blade Runner (1982)</th>\n",
       "      <th>Cries and Whispers (Viskningar och rop) (1972)</th>\n",
       "      <th>Forrest Gump (1994)</th>\n",
       "      <th>The Dark Knight (2011)</th>\n",
       "    </tr>\n",
       "    <tr>\n",
       "      <th>userId</th>\n",
       "      <th></th>\n",
       "      <th></th>\n",
       "      <th></th>\n",
       "      <th></th>\n",
       "    </tr>\n",
       "  </thead>\n",
       "  <tbody>\n",
       "    <tr>\n",
       "      <th>1.0</th>\n",
       "      <td>4.0</td>\n",
       "      <td>NaN</td>\n",
       "      <td>NaN</td>\n",
       "      <td>NaN</td>\n",
       "    </tr>\n",
       "    <tr>\n",
       "      <th>2.0</th>\n",
       "      <td>5.0</td>\n",
       "      <td>NaN</td>\n",
       "      <td>NaN</td>\n",
       "      <td>NaN</td>\n",
       "    </tr>\n",
       "    <tr>\n",
       "      <th>3.0</th>\n",
       "      <td>5.0</td>\n",
       "      <td>NaN</td>\n",
       "      <td>NaN</td>\n",
       "      <td>NaN</td>\n",
       "    </tr>\n",
       "    <tr>\n",
       "      <th>4.0</th>\n",
       "      <td>NaN</td>\n",
       "      <td>NaN</td>\n",
       "      <td>4.0</td>\n",
       "      <td>NaN</td>\n",
       "    </tr>\n",
       "    <tr>\n",
       "      <th>7.0</th>\n",
       "      <td>NaN</td>\n",
       "      <td>NaN</td>\n",
       "      <td>4.0</td>\n",
       "      <td>NaN</td>\n",
       "    </tr>\n",
       "  </tbody>\n",
       "</table>\n",
       "</div>"
      ],
      "text/plain": [
       "title   Blade Runner (1982)  Cries and Whispers (Viskningar och rop) (1972)  \\\n",
       "userId                                                                        \n",
       "1.0                     4.0                                             NaN   \n",
       "2.0                     5.0                                             NaN   \n",
       "3.0                     5.0                                             NaN   \n",
       "4.0                     NaN                                             NaN   \n",
       "7.0                     NaN                                             NaN   \n",
       "\n",
       "title   Forrest Gump (1994)  The Dark Knight (2011)  \n",
       "userId                                               \n",
       "1.0                     NaN                     NaN  \n",
       "2.0                     NaN                     NaN  \n",
       "3.0                     NaN                     NaN  \n",
       "4.0                     4.0                     NaN  \n",
       "7.0                     4.0                     NaN  "
      ]
     },
     "execution_count": 13,
     "metadata": {},
     "output_type": "execute_result"
    }
   ],
   "source": [
    "user_movie_df.head()"
   ]
  },
  {
   "cell_type": "code",
   "execution_count": 14,
   "id": "ddcd9c12-0483-4c04-b8a2-b14208fea585",
   "metadata": {},
   "outputs": [],
   "source": [
    "#Puan skalamızı belirtiyoruz 1 ile 5 arasında\n",
    "reader = Reader(rating_scale =(1,5))"
   ]
  },
  {
   "cell_type": "code",
   "execution_count": 15,
   "id": "24709ed8-4e99-4458-8478-918c76505371",
   "metadata": {},
   "outputs": [],
   "source": [
    "#Surprise a uygun bir veri yapısına çevirdik\n",
    "data = Dataset.load_from_df(sample_df[[\"userId\",\"movieId\",\"rating\"]],reader)"
   ]
  },
  {
   "cell_type": "markdown",
   "id": "c2cd6d0d-1ab1-4ce8-b004-d9b8cefa4145",
   "metadata": {},
   "source": [
    "## Modelleme"
   ]
  },
  {
   "cell_type": "code",
   "execution_count": 16,
   "id": "f71c461d-607e-411b-b1a2-3c0c8fdbfcc9",
   "metadata": {},
   "outputs": [],
   "source": [
    "trainset, testset = train_test_split(data, test_size = .25)"
   ]
  },
  {
   "cell_type": "code",
   "execution_count": 17,
   "id": "d9b238b9-093e-4e74-80b4-002a62e24fcf",
   "metadata": {},
   "outputs": [],
   "source": [
    "svd_model = SVD()"
   ]
  },
  {
   "cell_type": "code",
   "execution_count": 18,
   "id": "a9e8495c-69f4-4e50-ab4f-d5c23a71de1c",
   "metadata": {},
   "outputs": [
    {
     "data": {
      "text/plain": [
       "<surprise.prediction_algorithms.matrix_factorization.SVD at 0x7fc052acff10>"
      ]
     },
     "execution_count": 18,
     "metadata": {},
     "output_type": "execute_result"
    }
   ],
   "source": [
    "svd_model.fit(trainset)"
   ]
  },
  {
   "cell_type": "code",
   "execution_count": 19,
   "id": "7e482f79-d74d-4b9c-be07-144f1a7a29c6",
   "metadata": {},
   "outputs": [],
   "source": [
    "predictions = svd_model.test(testset)"
   ]
  },
  {
   "cell_type": "code",
   "execution_count": 21,
   "id": "afaf33f5-9c19-45bb-be64-352215c56795",
   "metadata": {},
   "outputs": [
    {
     "name": "stdout",
     "output_type": "stream",
     "text": [
      "RMSE: 0.9328\n"
     ]
    },
    {
     "data": {
      "text/plain": [
       "0.9328101945570266"
      ]
     },
     "execution_count": 21,
     "metadata": {},
     "output_type": "execute_result"
    }
   ],
   "source": [
    "#Gerçek değerler ile tahmin edilen değerlerin farkını alacak karelerini alacak\n",
    "#bu değerleri topladıktan sonra ortalamasını alacak ve karekökünü alacak.\n",
    "accuracy.rmse(predictions)"
   ]
  },
  {
   "cell_type": "code",
   "execution_count": 22,
   "id": "b30c6057-0f75-4518-a2f8-4d74ceeaf45c",
   "metadata": {},
   "outputs": [
    {
     "name": "stdout",
     "output_type": "stream",
     "text": [
      "user: 1.0        item: 541        r_ui = None   est = 4.44   {'was_impossible': False}\n"
     ]
    },
    {
     "data": {
      "text/plain": [
       "Prediction(uid=1.0, iid=541, r_ui=None, est=4.43655703490431, details={'was_impossible': False})"
      ]
     },
     "execution_count": 22,
     "metadata": {},
     "output_type": "execute_result"
    }
   ],
   "source": [
    "#ÖZellikle 1 tane kullanıcıya tahminde bulunma\n",
    "svd_model.predict(uid = 1.0, iid=541, verbose= True)"
   ]
  },
  {
   "cell_type": "code",
   "execution_count": 23,
   "id": "2ad2b916-a84c-4f7d-b869-573f8adf850f",
   "metadata": {},
   "outputs": [
    {
     "name": "stdout",
     "output_type": "stream",
     "text": [
      "user: 1.0        item: 356        r_ui = None   est = 3.94   {'was_impossible': False}\n"
     ]
    },
    {
     "data": {
      "text/plain": [
       "Prediction(uid=1.0, iid=356, r_ui=None, est=3.943407039705862, details={'was_impossible': False})"
      ]
     },
     "execution_count": 23,
     "metadata": {},
     "output_type": "execute_result"
    }
   ],
   "source": [
    "svd_model.predict(uid = 1.0, iid=356, verbose= True)"
   ]
  },
  {
   "cell_type": "markdown",
   "id": "5234b017-1baf-46cf-8a06-5e4f3c8f173d",
   "metadata": {},
   "source": [
    "## Model Tuning"
   ]
  },
  {
   "cell_type": "code",
   "execution_count": 28,
   "id": "e6f49df4-172e-4340-b862-59882d406df0",
   "metadata": {},
   "outputs": [],
   "source": [
    "param_grid = {\"n_epochs\": [5,10,20],\n",
    "             \"lr_all\": [0.002,0.005,0.007]}"
   ]
  },
  {
   "cell_type": "code",
   "execution_count": 29,
   "id": "e345c8d3-3fb6-426e-bc30-e4bd286d58ee",
   "metadata": {},
   "outputs": [],
   "source": [
    "#param_grid deki iki hiperparametrenin olası bütün kombinasyonlarını dene\n",
    "gs = GridSearchCV(SVD,\n",
    "                 param_grid,\n",
    "                 measures = [\"rmse\", \"mae\"],\n",
    "                 cv=3, n_jobs=-1, joblib_verbose=True)"
   ]
  },
  {
   "cell_type": "code",
   "execution_count": 30,
   "id": "a5c54fe3-d65c-466f-aabc-98ba9cb33caa",
   "metadata": {},
   "outputs": [
    {
     "name": "stderr",
     "output_type": "stream",
     "text": [
      "[Parallel(n_jobs=-1)]: Using backend LokyBackend with 8 concurrent workers.\n",
      "[Parallel(n_jobs=-1)]: Done  27 out of  27 | elapsed:    4.4s finished\n"
     ]
    }
   ],
   "source": [
    "gs.fit(data)"
   ]
  },
  {
   "cell_type": "code",
   "execution_count": 31,
   "id": "452428cd-bec1-4950-8f85-5dd49e75a784",
   "metadata": {},
   "outputs": [
    {
     "data": {
      "text/plain": [
       "0.9311143539766141"
      ]
     },
     "execution_count": 31,
     "metadata": {},
     "output_type": "execute_result"
    }
   ],
   "source": [
    "gs.best_score[\"rmse\"]"
   ]
  },
  {
   "cell_type": "code",
   "execution_count": 33,
   "id": "cf03b1f2-fa75-49d7-8283-f5c85a40bece",
   "metadata": {},
   "outputs": [
    {
     "data": {
      "text/plain": [
       "{'n_epochs': 5, 'lr_all': 0.002}"
      ]
     },
     "execution_count": 33,
     "metadata": {},
     "output_type": "execute_result"
    }
   ],
   "source": [
    "gs.best_params[\"rmse\"]"
   ]
  },
  {
   "cell_type": "markdown",
   "id": "c1fc031b-aa03-4040-966e-88686608fb91",
   "metadata": {},
   "source": [
    "## Final Model ve Tahmin"
   ]
  },
  {
   "cell_type": "code",
   "execution_count": 35,
   "id": "b7bb6ef2-f445-4788-a729-de12c1b4b4e5",
   "metadata": {},
   "outputs": [],
   "source": [
    "svd_model = SVD(**gs.best_params[\"rmse\"])"
   ]
  },
  {
   "cell_type": "code",
   "execution_count": 36,
   "id": "c4b4f433-786e-4c79-a6de-72fe1bcb1ec3",
   "metadata": {},
   "outputs": [],
   "source": [
    "data = data.build_full_trainset()"
   ]
  },
  {
   "cell_type": "code",
   "execution_count": 37,
   "id": "9df661b1-7184-4a74-9c42-7d3a30ae520b",
   "metadata": {},
   "outputs": [
    {
     "data": {
      "text/plain": [
       "<surprise.prediction_algorithms.matrix_factorization.SVD at 0x7fc052af4b50>"
      ]
     },
     "execution_count": 37,
     "metadata": {},
     "output_type": "execute_result"
    }
   ],
   "source": [
    "svd_model.fit(data)"
   ]
  },
  {
   "cell_type": "code",
   "execution_count": 38,
   "id": "dca05741-00bd-405b-959e-b60b8830bf6a",
   "metadata": {},
   "outputs": [
    {
     "name": "stdout",
     "output_type": "stream",
     "text": [
      "user: 1.0        item: 356        r_ui = None   est = 4.08   {'was_impossible': False}\n"
     ]
    },
    {
     "data": {
      "text/plain": [
       "Prediction(uid=1.0, iid=356, r_ui=None, est=4.081830680003905, details={'was_impossible': False})"
      ]
     },
     "execution_count": 38,
     "metadata": {},
     "output_type": "execute_result"
    }
   ],
   "source": [
    "svd_model.predict(uid = 1.0, iid=356, verbose= True)"
   ]
  }
 ],
 "metadata": {
  "kernelspec": {
   "display_name": "Python 3 (ipykernel)",
   "language": "python",
   "name": "python3"
  },
  "language_info": {
   "codemirror_mode": {
    "name": "ipython",
    "version": 3
   },
   "file_extension": ".py",
   "mimetype": "text/x-python",
   "name": "python",
   "nbconvert_exporter": "python",
   "pygments_lexer": "ipython3",
   "version": "3.9.13"
  }
 },
 "nbformat": 4,
 "nbformat_minor": 5
}
