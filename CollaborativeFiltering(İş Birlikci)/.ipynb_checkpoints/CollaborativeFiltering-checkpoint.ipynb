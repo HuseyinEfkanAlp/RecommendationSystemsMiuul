{
 "cells": [
  {
   "cell_type": "markdown",
   "id": "3bb4b372-9735-42fb-9d58-93146ffd887f",
   "metadata": {},
   "source": [
    "# Collaborative Filtering (İş Birlikçi Filtreleme)\n",
    "----"
   ]
  },
  {
   "cell_type": "markdown",
   "id": "e5d9dd27-3fae-47da-923d-f7be248c370d",
   "metadata": {},
   "source": [
    "* Item-Based Collaborative Filtering\n",
    "* User-Based Collaborative Filtering\n",
    "* Model-Based Collaborative Filtering"
   ]
  },
  {
   "cell_type": "markdown",
   "id": "c438efea-b176-407c-a639-18b62512eece",
   "metadata": {},
   "source": [
    "## Item-Based Collaborative Filtering\n",
    "----"
   ]
  },
  {
   "cell_type": "markdown",
   "id": "5ee6f8d9-a57c-47a0-bc61-019391d55a76",
   "metadata": {},
   "source": [
    "Ürün Benzerliği üzerinden öneriler yapılır.\n",
    "\n",
    "!! İçeriksel bir benzerlik değil, beğenilme benzerliği\n",
    "\n",
    "Birbirleri arasında en yüksek korelasyona sahip ürün en benzer beğenilme alışkanlığına sahiptir"
   ]
  },
  {
   "cell_type": "markdown",
   "id": "08cb8d2a-e1be-4bdc-b084-388b81a0d6a8",
   "metadata": {},
   "source": [
    "## User-Based Collaborative Filtering\n",
    "---"
   ]
  },
  {
   "cell_type": "markdown",
   "id": "2eb309bd-8d3b-4069-95ec-6567219ed51f",
   "metadata": {},
   "source": [
    "Kullanıcı (User) Benzerlikleri üzerinden öneriler yapılır.\n",
    "\n",
    "!! Beğenme alışkanlıkları birbirine benzer olan kullanıcıların bilgilerini kullanarak bu kullanıcılar içerisinde eğer bir kullanıcının izlemediği film varsa bunlar senin gibi beğeniyor senin gibi düşünüyor muhtemelen bu filmi izlersen beğeneceksin diyerek bu kullanıcıya bu filmleri öneriyoruz"
   ]
  }
 ],
 "metadata": {
  "kernelspec": {
   "display_name": "Python 3 (ipykernel)",
   "language": "python",
   "name": "python3"
  },
  "language_info": {
   "codemirror_mode": {
    "name": "ipython",
    "version": 3
   },
   "file_extension": ".py",
   "mimetype": "text/x-python",
   "name": "python",
   "nbconvert_exporter": "python",
   "pygments_lexer": "ipython3",
   "version": "3.9.13"
  }
 },
 "nbformat": 4,
 "nbformat_minor": 5
}
