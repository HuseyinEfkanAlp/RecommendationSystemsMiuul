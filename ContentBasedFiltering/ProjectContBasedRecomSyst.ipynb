{
 "cells": [
  {
   "cell_type": "markdown",
   "id": "3196edcb-34e8-4772-ae9d-3a9cdfba9239",
   "metadata": {},
   "source": [
    "# İçerik Temelli Tavsiye Sistemi\n",
    "---"
   ]
  },
  {
   "cell_type": "markdown",
   "id": "15db5281-82ee-40d0-b941-3690ed87bc3d",
   "metadata": {},
   "source": [
    "## İş Problemi \n",
    "---\n",
    "Yeni kurulmuş bir online film izleme platformu kullanıcılarına film önerilerinde bulunmak istemektedir.\n",
    "\n",
    "Kullanıcıların login oranı çok düşük olduğu için kullanıcı alışkanlıklarını toplayamamaktadır. Bu sebeple iş birlikçi filtreleme yöntemleri ile ürün önerileri geliştirememektedir.\n",
    "\n",
    "Fakat kullanıcıların tarayıcıdaki izlerinden hangi filmleri izlediklerini bilmektedir. Bu bilgiye göre film önerilerinde bulununuz.\n"
   ]
  },
  {
   "cell_type": "markdown",
   "id": "1cd44bf2-fc85-4d91-b8cf-2b6e78e5510d",
   "metadata": {},
   "source": [
    "## Veri Seti Hikayesi\n",
    "---\n",
    "movies_metadata.csv veri seti 45000 film ile ilgili temel bilgileri barındırmaktadır.\n",
    "\n",
    "Uygulama kapsamında film açıklamalarını içeren \"overview\" değişkeni ile çalışılacaktır."
   ]
  },
  {
   "cell_type": "markdown",
   "id": "0cf4acec-d04b-4fab-8ba6-0a12ccf811d0",
   "metadata": {},
   "source": [
    "## TF-IDF Matrisinin Oluşturulması"
   ]
  },
  {
   "cell_type": "code",
   "execution_count": 1,
   "id": "00ef2136-d5b3-4cab-b4b3-d6bd7d265897",
   "metadata": {},
   "outputs": [],
   "source": [
    "import pandas as pd\n",
    "pd.set_option(\"display.max_columns\", None)\n",
    "pd.set_option(\"display.width\", 500)\n",
    "from sklearn.feature_extraction.text import TfidfVectorizer\n",
    "from sklearn.metrics.pairwise import cosine_similarity"
   ]
  },
  {
   "cell_type": "code",
   "execution_count": 2,
   "id": "33cbd475-2a81-4f30-aa9e-6bf702ea6680",
   "metadata": {},
   "outputs": [],
   "source": [
    "df = pd.read_csv(\"/Users/huseyinefkanalp/Desktop/DataScience/DataSets/movies_metadata.csv\", low_memory = False)"
   ]
  },
  {
   "cell_type": "code",
   "execution_count": 3,
   "id": "c5ed12a0-2f02-479a-8a05-d670aa5b74d6",
   "metadata": {},
   "outputs": [
    {
     "data": {
      "text/html": [
       "<div>\n",
       "<style scoped>\n",
       "    .dataframe tbody tr th:only-of-type {\n",
       "        vertical-align: middle;\n",
       "    }\n",
       "\n",
       "    .dataframe tbody tr th {\n",
       "        vertical-align: top;\n",
       "    }\n",
       "\n",
       "    .dataframe thead th {\n",
       "        text-align: right;\n",
       "    }\n",
       "</style>\n",
       "<table border=\"1\" class=\"dataframe\">\n",
       "  <thead>\n",
       "    <tr style=\"text-align: right;\">\n",
       "      <th></th>\n",
       "      <th>adult</th>\n",
       "      <th>belongs_to_collection</th>\n",
       "      <th>budget</th>\n",
       "      <th>genres</th>\n",
       "      <th>homepage</th>\n",
       "      <th>id</th>\n",
       "      <th>imdb_id</th>\n",
       "      <th>original_language</th>\n",
       "      <th>original_title</th>\n",
       "      <th>overview</th>\n",
       "      <th>popularity</th>\n",
       "      <th>poster_path</th>\n",
       "      <th>production_companies</th>\n",
       "      <th>production_countries</th>\n",
       "      <th>release_date</th>\n",
       "      <th>revenue</th>\n",
       "      <th>runtime</th>\n",
       "      <th>spoken_languages</th>\n",
       "      <th>status</th>\n",
       "      <th>tagline</th>\n",
       "      <th>title</th>\n",
       "      <th>video</th>\n",
       "      <th>vote_average</th>\n",
       "      <th>vote_count</th>\n",
       "    </tr>\n",
       "  </thead>\n",
       "  <tbody>\n",
       "    <tr>\n",
       "      <th>0</th>\n",
       "      <td>False</td>\n",
       "      <td>{'id': 10194, 'name': 'Toy Story Collection', ...</td>\n",
       "      <td>30000000</td>\n",
       "      <td>[{'id': 16, 'name': 'Animation'}, {'id': 35, '...</td>\n",
       "      <td>http://toystory.disney.com/toy-story</td>\n",
       "      <td>862</td>\n",
       "      <td>tt0114709</td>\n",
       "      <td>en</td>\n",
       "      <td>Toy Story</td>\n",
       "      <td>Led by Woody, Andy's toys live happily in his ...</td>\n",
       "      <td>21.946943</td>\n",
       "      <td>/rhIRbceoE9lR4veEXuwCC2wARtG.jpg</td>\n",
       "      <td>[{'name': 'Pixar Animation Studios', 'id': 3}]</td>\n",
       "      <td>[{'iso_3166_1': 'US', 'name': 'United States o...</td>\n",
       "      <td>1995-10-30</td>\n",
       "      <td>373554033.0</td>\n",
       "      <td>81.0</td>\n",
       "      <td>[{'iso_639_1': 'en', 'name': 'English'}]</td>\n",
       "      <td>Released</td>\n",
       "      <td>NaN</td>\n",
       "      <td>Toy Story</td>\n",
       "      <td>False</td>\n",
       "      <td>7.7</td>\n",
       "      <td>5415.0</td>\n",
       "    </tr>\n",
       "    <tr>\n",
       "      <th>1</th>\n",
       "      <td>False</td>\n",
       "      <td>NaN</td>\n",
       "      <td>65000000</td>\n",
       "      <td>[{'id': 12, 'name': 'Adventure'}, {'id': 14, '...</td>\n",
       "      <td>NaN</td>\n",
       "      <td>8844</td>\n",
       "      <td>tt0113497</td>\n",
       "      <td>en</td>\n",
       "      <td>Jumanji</td>\n",
       "      <td>When siblings Judy and Peter discover an encha...</td>\n",
       "      <td>17.015539</td>\n",
       "      <td>/vzmL6fP7aPKNKPRTFnZmiUfciyV.jpg</td>\n",
       "      <td>[{'name': 'TriStar Pictures', 'id': 559}, {'na...</td>\n",
       "      <td>[{'iso_3166_1': 'US', 'name': 'United States o...</td>\n",
       "      <td>1995-12-15</td>\n",
       "      <td>262797249.0</td>\n",
       "      <td>104.0</td>\n",
       "      <td>[{'iso_639_1': 'en', 'name': 'English'}, {'iso...</td>\n",
       "      <td>Released</td>\n",
       "      <td>Roll the dice and unleash the excitement!</td>\n",
       "      <td>Jumanji</td>\n",
       "      <td>False</td>\n",
       "      <td>6.9</td>\n",
       "      <td>2413.0</td>\n",
       "    </tr>\n",
       "    <tr>\n",
       "      <th>2</th>\n",
       "      <td>False</td>\n",
       "      <td>{'id': 119050, 'name': 'Grumpy Old Men Collect...</td>\n",
       "      <td>0</td>\n",
       "      <td>[{'id': 10749, 'name': 'Romance'}, {'id': 35, ...</td>\n",
       "      <td>NaN</td>\n",
       "      <td>15602</td>\n",
       "      <td>tt0113228</td>\n",
       "      <td>en</td>\n",
       "      <td>Grumpier Old Men</td>\n",
       "      <td>A family wedding reignites the ancient feud be...</td>\n",
       "      <td>11.7129</td>\n",
       "      <td>/6ksm1sjKMFLbO7UY2i6G1ju9SML.jpg</td>\n",
       "      <td>[{'name': 'Warner Bros.', 'id': 6194}, {'name'...</td>\n",
       "      <td>[{'iso_3166_1': 'US', 'name': 'United States o...</td>\n",
       "      <td>1995-12-22</td>\n",
       "      <td>0.0</td>\n",
       "      <td>101.0</td>\n",
       "      <td>[{'iso_639_1': 'en', 'name': 'English'}]</td>\n",
       "      <td>Released</td>\n",
       "      <td>Still Yelling. Still Fighting. Still Ready for...</td>\n",
       "      <td>Grumpier Old Men</td>\n",
       "      <td>False</td>\n",
       "      <td>6.5</td>\n",
       "      <td>92.0</td>\n",
       "    </tr>\n",
       "    <tr>\n",
       "      <th>3</th>\n",
       "      <td>False</td>\n",
       "      <td>NaN</td>\n",
       "      <td>16000000</td>\n",
       "      <td>[{'id': 35, 'name': 'Comedy'}, {'id': 18, 'nam...</td>\n",
       "      <td>NaN</td>\n",
       "      <td>31357</td>\n",
       "      <td>tt0114885</td>\n",
       "      <td>en</td>\n",
       "      <td>Waiting to Exhale</td>\n",
       "      <td>Cheated on, mistreated and stepped on, the wom...</td>\n",
       "      <td>3.859495</td>\n",
       "      <td>/16XOMpEaLWkrcPqSQqhTmeJuqQl.jpg</td>\n",
       "      <td>[{'name': 'Twentieth Century Fox Film Corporat...</td>\n",
       "      <td>[{'iso_3166_1': 'US', 'name': 'United States o...</td>\n",
       "      <td>1995-12-22</td>\n",
       "      <td>81452156.0</td>\n",
       "      <td>127.0</td>\n",
       "      <td>[{'iso_639_1': 'en', 'name': 'English'}]</td>\n",
       "      <td>Released</td>\n",
       "      <td>Friends are the people who let you be yourself...</td>\n",
       "      <td>Waiting to Exhale</td>\n",
       "      <td>False</td>\n",
       "      <td>6.1</td>\n",
       "      <td>34.0</td>\n",
       "    </tr>\n",
       "    <tr>\n",
       "      <th>4</th>\n",
       "      <td>False</td>\n",
       "      <td>{'id': 96871, 'name': 'Father of the Bride Col...</td>\n",
       "      <td>0</td>\n",
       "      <td>[{'id': 35, 'name': 'Comedy'}]</td>\n",
       "      <td>NaN</td>\n",
       "      <td>11862</td>\n",
       "      <td>tt0113041</td>\n",
       "      <td>en</td>\n",
       "      <td>Father of the Bride Part II</td>\n",
       "      <td>Just when George Banks has recovered from his ...</td>\n",
       "      <td>8.387519</td>\n",
       "      <td>/e64sOI48hQXyru7naBFyssKFxVd.jpg</td>\n",
       "      <td>[{'name': 'Sandollar Productions', 'id': 5842}...</td>\n",
       "      <td>[{'iso_3166_1': 'US', 'name': 'United States o...</td>\n",
       "      <td>1995-02-10</td>\n",
       "      <td>76578911.0</td>\n",
       "      <td>106.0</td>\n",
       "      <td>[{'iso_639_1': 'en', 'name': 'English'}]</td>\n",
       "      <td>Released</td>\n",
       "      <td>Just When His World Is Back To Normal... He's ...</td>\n",
       "      <td>Father of the Bride Part II</td>\n",
       "      <td>False</td>\n",
       "      <td>5.7</td>\n",
       "      <td>173.0</td>\n",
       "    </tr>\n",
       "  </tbody>\n",
       "</table>\n",
       "</div>"
      ],
      "text/plain": [
       "   adult                              belongs_to_collection    budget                                             genres                              homepage     id    imdb_id original_language               original_title                                           overview popularity                       poster_path                               production_companies                               production_countries release_date      revenue  runtime  \\\n",
       "0  False  {'id': 10194, 'name': 'Toy Story Collection', ...  30000000  [{'id': 16, 'name': 'Animation'}, {'id': 35, '...  http://toystory.disney.com/toy-story    862  tt0114709                en                    Toy Story  Led by Woody, Andy's toys live happily in his ...  21.946943  /rhIRbceoE9lR4veEXuwCC2wARtG.jpg     [{'name': 'Pixar Animation Studios', 'id': 3}]  [{'iso_3166_1': 'US', 'name': 'United States o...   1995-10-30  373554033.0     81.0   \n",
       "1  False                                                NaN  65000000  [{'id': 12, 'name': 'Adventure'}, {'id': 14, '...                                   NaN   8844  tt0113497                en                      Jumanji  When siblings Judy and Peter discover an encha...  17.015539  /vzmL6fP7aPKNKPRTFnZmiUfciyV.jpg  [{'name': 'TriStar Pictures', 'id': 559}, {'na...  [{'iso_3166_1': 'US', 'name': 'United States o...   1995-12-15  262797249.0    104.0   \n",
       "2  False  {'id': 119050, 'name': 'Grumpy Old Men Collect...         0  [{'id': 10749, 'name': 'Romance'}, {'id': 35, ...                                   NaN  15602  tt0113228                en             Grumpier Old Men  A family wedding reignites the ancient feud be...    11.7129  /6ksm1sjKMFLbO7UY2i6G1ju9SML.jpg  [{'name': 'Warner Bros.', 'id': 6194}, {'name'...  [{'iso_3166_1': 'US', 'name': 'United States o...   1995-12-22          0.0    101.0   \n",
       "3  False                                                NaN  16000000  [{'id': 35, 'name': 'Comedy'}, {'id': 18, 'nam...                                   NaN  31357  tt0114885                en            Waiting to Exhale  Cheated on, mistreated and stepped on, the wom...   3.859495  /16XOMpEaLWkrcPqSQqhTmeJuqQl.jpg  [{'name': 'Twentieth Century Fox Film Corporat...  [{'iso_3166_1': 'US', 'name': 'United States o...   1995-12-22   81452156.0    127.0   \n",
       "4  False  {'id': 96871, 'name': 'Father of the Bride Col...         0                     [{'id': 35, 'name': 'Comedy'}]                                   NaN  11862  tt0113041                en  Father of the Bride Part II  Just when George Banks has recovered from his ...   8.387519  /e64sOI48hQXyru7naBFyssKFxVd.jpg  [{'name': 'Sandollar Productions', 'id': 5842}...  [{'iso_3166_1': 'US', 'name': 'United States o...   1995-02-10   76578911.0    106.0   \n",
       "\n",
       "                                    spoken_languages    status                                            tagline                        title  video  vote_average  vote_count  \n",
       "0           [{'iso_639_1': 'en', 'name': 'English'}]  Released                                                NaN                    Toy Story  False           7.7      5415.0  \n",
       "1  [{'iso_639_1': 'en', 'name': 'English'}, {'iso...  Released          Roll the dice and unleash the excitement!                      Jumanji  False           6.9      2413.0  \n",
       "2           [{'iso_639_1': 'en', 'name': 'English'}]  Released  Still Yelling. Still Fighting. Still Ready for...             Grumpier Old Men  False           6.5        92.0  \n",
       "3           [{'iso_639_1': 'en', 'name': 'English'}]  Released  Friends are the people who let you be yourself...            Waiting to Exhale  False           6.1        34.0  \n",
       "4           [{'iso_639_1': 'en', 'name': 'English'}]  Released  Just When His World Is Back To Normal... He's ...  Father of the Bride Part II  False           5.7       173.0  "
      ]
     },
     "execution_count": 3,
     "metadata": {},
     "output_type": "execute_result"
    }
   ],
   "source": [
    "df.head()"
   ]
  },
  {
   "cell_type": "code",
   "execution_count": 4,
   "id": "e84de2bf-e3aa-48e5-b6d6-9cb55db0f7f5",
   "metadata": {},
   "outputs": [
    {
     "data": {
      "text/plain": [
       "(45466, 24)"
      ]
     },
     "execution_count": 4,
     "metadata": {},
     "output_type": "execute_result"
    }
   ],
   "source": [
    "df.shape"
   ]
  },
  {
   "cell_type": "code",
   "execution_count": 5,
   "id": "a8355dc4-6394-41e5-a510-36dca20210aa",
   "metadata": {},
   "outputs": [
    {
     "data": {
      "text/plain": [
       "0    Led by Woody, Andy's toys live happily in his ...\n",
       "1    When siblings Judy and Peter discover an encha...\n",
       "2    A family wedding reignites the ancient feud be...\n",
       "3    Cheated on, mistreated and stepped on, the wom...\n",
       "4    Just when George Banks has recovered from his ...\n",
       "Name: overview, dtype: object"
      ]
     },
     "execution_count": 5,
     "metadata": {},
     "output_type": "execute_result"
    }
   ],
   "source": [
    "df[\"overview\"].head()"
   ]
  },
  {
   "cell_type": "code",
   "execution_count": 6,
   "id": "76b3d435-22b8-4703-9803-338194592157",
   "metadata": {},
   "outputs": [],
   "source": [
    "tfidf = TfidfVectorizer(stop_words=\"english\")"
   ]
  },
  {
   "cell_type": "code",
   "execution_count": 7,
   "id": "4904b8fa-c6a4-4056-9b18-d224f7231bf1",
   "metadata": {},
   "outputs": [
    {
     "data": {
      "text/html": [
       "<div>\n",
       "<style scoped>\n",
       "    .dataframe tbody tr th:only-of-type {\n",
       "        vertical-align: middle;\n",
       "    }\n",
       "\n",
       "    .dataframe tbody tr th {\n",
       "        vertical-align: top;\n",
       "    }\n",
       "\n",
       "    .dataframe thead th {\n",
       "        text-align: right;\n",
       "    }\n",
       "</style>\n",
       "<table border=\"1\" class=\"dataframe\">\n",
       "  <thead>\n",
       "    <tr style=\"text-align: right;\">\n",
       "      <th></th>\n",
       "      <th>adult</th>\n",
       "      <th>belongs_to_collection</th>\n",
       "      <th>budget</th>\n",
       "      <th>genres</th>\n",
       "      <th>homepage</th>\n",
       "      <th>id</th>\n",
       "      <th>imdb_id</th>\n",
       "      <th>original_language</th>\n",
       "      <th>original_title</th>\n",
       "      <th>overview</th>\n",
       "      <th>popularity</th>\n",
       "      <th>poster_path</th>\n",
       "      <th>production_companies</th>\n",
       "      <th>production_countries</th>\n",
       "      <th>release_date</th>\n",
       "      <th>revenue</th>\n",
       "      <th>runtime</th>\n",
       "      <th>spoken_languages</th>\n",
       "      <th>status</th>\n",
       "      <th>tagline</th>\n",
       "      <th>title</th>\n",
       "      <th>video</th>\n",
       "      <th>vote_average</th>\n",
       "      <th>vote_count</th>\n",
       "    </tr>\n",
       "  </thead>\n",
       "  <tbody>\n",
       "    <tr>\n",
       "      <th>32</th>\n",
       "      <td>False</td>\n",
       "      <td>NaN</td>\n",
       "      <td>0</td>\n",
       "      <td>[{'id': 10749, 'name': 'Romance'}, {'id': 12, ...</td>\n",
       "      <td>NaN</td>\n",
       "      <td>78802</td>\n",
       "      <td>tt0114952</td>\n",
       "      <td>fr</td>\n",
       "      <td>Guillaumet, les ailes du courage</td>\n",
       "      <td>NaN</td>\n",
       "      <td>0.745542</td>\n",
       "      <td>/k6ODtR38dKEfuzSGjggr8KDyAF4.jpg</td>\n",
       "      <td>[{'name': 'Iwerks Entertainment', 'id': 70801}]</td>\n",
       "      <td>[{'iso_3166_1': 'FR', 'name': 'France'}, {'iso...</td>\n",
       "      <td>1996-09-18</td>\n",
       "      <td>0.0</td>\n",
       "      <td>50.0</td>\n",
       "      <td>[{'iso_639_1': 'en', 'name': 'English'}]</td>\n",
       "      <td>Released</td>\n",
       "      <td>NaN</td>\n",
       "      <td>Wings of Courage</td>\n",
       "      <td>False</td>\n",
       "      <td>6.8</td>\n",
       "      <td>4.0</td>\n",
       "    </tr>\n",
       "    <tr>\n",
       "      <th>300</th>\n",
       "      <td>False</td>\n",
       "      <td>NaN</td>\n",
       "      <td>22000000</td>\n",
       "      <td>[{'id': 18, 'name': 'Drama'}, {'id': 35, 'name...</td>\n",
       "      <td>NaN</td>\n",
       "      <td>161495</td>\n",
       "      <td>tt0114296</td>\n",
       "      <td>sv</td>\n",
       "      <td>Roommates</td>\n",
       "      <td>NaN</td>\n",
       "      <td>3.395867</td>\n",
       "      <td>/hvHNlMvWS2GBt7RR971bJ3k4bJc.jpg</td>\n",
       "      <td>[{'name': 'Hollywood Pictures', 'id': 915}, {'...</td>\n",
       "      <td>[{'iso_3166_1': 'US', 'name': 'United States o...</td>\n",
       "      <td>1995-03-01</td>\n",
       "      <td>12400000.0</td>\n",
       "      <td>108.0</td>\n",
       "      <td>[{'iso_639_1': 'en', 'name': 'English'}]</td>\n",
       "      <td>Released</td>\n",
       "      <td>NaN</td>\n",
       "      <td>Roommates</td>\n",
       "      <td>False</td>\n",
       "      <td>6.4</td>\n",
       "      <td>7.0</td>\n",
       "    </tr>\n",
       "    <tr>\n",
       "      <th>634</th>\n",
       "      <td>False</td>\n",
       "      <td>NaN</td>\n",
       "      <td>0</td>\n",
       "      <td>[{'id': 35, 'name': 'Comedy'}]</td>\n",
       "      <td>NaN</td>\n",
       "      <td>287305</td>\n",
       "      <td>tt0117312</td>\n",
       "      <td>de</td>\n",
       "      <td>Peanuts – Die Bank zahlt alles</td>\n",
       "      <td>NaN</td>\n",
       "      <td>0.066123</td>\n",
       "      <td>/wpk30SvRHmjC2plgKHZXxG0FlKd.jpg</td>\n",
       "      <td>[{'name': 'Westdeutscher Rundfunk (WDR)', 'id'...</td>\n",
       "      <td>[{'iso_3166_1': 'DE', 'name': 'Germany'}]</td>\n",
       "      <td>1996-03-21</td>\n",
       "      <td>0.0</td>\n",
       "      <td>NaN</td>\n",
       "      <td>[]</td>\n",
       "      <td>Released</td>\n",
       "      <td>NaN</td>\n",
       "      <td>Peanuts – Die Bank zahlt alles</td>\n",
       "      <td>False</td>\n",
       "      <td>4.0</td>\n",
       "      <td>1.0</td>\n",
       "    </tr>\n",
       "    <tr>\n",
       "      <th>635</th>\n",
       "      <td>False</td>\n",
       "      <td>NaN</td>\n",
       "      <td>0</td>\n",
       "      <td>[{'id': 35, 'name': 'Comedy'}]</td>\n",
       "      <td>NaN</td>\n",
       "      <td>339428</td>\n",
       "      <td>tt0116485</td>\n",
       "      <td>de</td>\n",
       "      <td>Happy Weekend</td>\n",
       "      <td>NaN</td>\n",
       "      <td>0.002229</td>\n",
       "      <td>NaN</td>\n",
       "      <td>[{'name': 'Senator Film Produktion', 'id': 191}]</td>\n",
       "      <td>[{'iso_3166_1': 'DE', 'name': 'Germany'}]</td>\n",
       "      <td>1996-03-14</td>\n",
       "      <td>65335.0</td>\n",
       "      <td>NaN</td>\n",
       "      <td>[{'iso_639_1': 'de', 'name': 'Deutsch'}]</td>\n",
       "      <td>Released</td>\n",
       "      <td>NaN</td>\n",
       "      <td>Happy Weekend</td>\n",
       "      <td>False</td>\n",
       "      <td>0.0</td>\n",
       "      <td>0.0</td>\n",
       "    </tr>\n",
       "    <tr>\n",
       "      <th>641</th>\n",
       "      <td>False</td>\n",
       "      <td>NaN</td>\n",
       "      <td>0</td>\n",
       "      <td>[{'id': 35, 'name': 'Comedy'}]</td>\n",
       "      <td>NaN</td>\n",
       "      <td>10801</td>\n",
       "      <td>tt0117788</td>\n",
       "      <td>de</td>\n",
       "      <td>Das Superweib</td>\n",
       "      <td>NaN</td>\n",
       "      <td>0.821299</td>\n",
       "      <td>/AbhMKCh3fV5PY2B9uSPF1DWEvq2.jpg</td>\n",
       "      <td>[{'name': 'Constantin Film', 'id': 47}]</td>\n",
       "      <td>[{'iso_3166_1': 'DE', 'name': 'Germany'}]</td>\n",
       "      <td>1996-03-06</td>\n",
       "      <td>0.0</td>\n",
       "      <td>86.0</td>\n",
       "      <td>[{'iso_639_1': 'de', 'name': 'Deutsch'}]</td>\n",
       "      <td>Released</td>\n",
       "      <td>NaN</td>\n",
       "      <td>The Superwife</td>\n",
       "      <td>False</td>\n",
       "      <td>5.3</td>\n",
       "      <td>7.0</td>\n",
       "    </tr>\n",
       "  </tbody>\n",
       "</table>\n",
       "</div>"
      ],
      "text/plain": [
       "     adult belongs_to_collection    budget                                             genres homepage      id    imdb_id original_language                    original_title overview popularity                       poster_path                               production_companies                               production_countries release_date     revenue  runtime                          spoken_languages    status tagline                           title  video  vote_average  vote_count\n",
       "32   False                   NaN         0  [{'id': 10749, 'name': 'Romance'}, {'id': 12, ...      NaN   78802  tt0114952                fr  Guillaumet, les ailes du courage      NaN   0.745542  /k6ODtR38dKEfuzSGjggr8KDyAF4.jpg    [{'name': 'Iwerks Entertainment', 'id': 70801}]  [{'iso_3166_1': 'FR', 'name': 'France'}, {'iso...   1996-09-18         0.0     50.0  [{'iso_639_1': 'en', 'name': 'English'}]  Released     NaN                Wings of Courage  False           6.8         4.0\n",
       "300  False                   NaN  22000000  [{'id': 18, 'name': 'Drama'}, {'id': 35, 'name...      NaN  161495  tt0114296                sv                         Roommates      NaN   3.395867  /hvHNlMvWS2GBt7RR971bJ3k4bJc.jpg  [{'name': 'Hollywood Pictures', 'id': 915}, {'...  [{'iso_3166_1': 'US', 'name': 'United States o...   1995-03-01  12400000.0    108.0  [{'iso_639_1': 'en', 'name': 'English'}]  Released     NaN                       Roommates  False           6.4         7.0\n",
       "634  False                   NaN         0                     [{'id': 35, 'name': 'Comedy'}]      NaN  287305  tt0117312                de    Peanuts – Die Bank zahlt alles      NaN   0.066123  /wpk30SvRHmjC2plgKHZXxG0FlKd.jpg  [{'name': 'Westdeutscher Rundfunk (WDR)', 'id'...          [{'iso_3166_1': 'DE', 'name': 'Germany'}]   1996-03-21         0.0      NaN                                        []  Released     NaN  Peanuts – Die Bank zahlt alles  False           4.0         1.0\n",
       "635  False                   NaN         0                     [{'id': 35, 'name': 'Comedy'}]      NaN  339428  tt0116485                de                     Happy Weekend      NaN   0.002229                               NaN   [{'name': 'Senator Film Produktion', 'id': 191}]          [{'iso_3166_1': 'DE', 'name': 'Germany'}]   1996-03-14     65335.0      NaN  [{'iso_639_1': 'de', 'name': 'Deutsch'}]  Released     NaN                   Happy Weekend  False           0.0         0.0\n",
       "641  False                   NaN         0                     [{'id': 35, 'name': 'Comedy'}]      NaN   10801  tt0117788                de                     Das Superweib      NaN   0.821299  /AbhMKCh3fV5PY2B9uSPF1DWEvq2.jpg            [{'name': 'Constantin Film', 'id': 47}]          [{'iso_3166_1': 'DE', 'name': 'Germany'}]   1996-03-06         0.0     86.0  [{'iso_639_1': 'de', 'name': 'Deutsch'}]  Released     NaN                   The Superwife  False           5.3         7.0"
      ]
     },
     "execution_count": 7,
     "metadata": {},
     "output_type": "execute_result"
    }
   ],
   "source": [
    "#Overiwiev null olanlar\n",
    "df[df[\"overview\"].isnull()].head()"
   ]
  },
  {
   "cell_type": "code",
   "execution_count": 8,
   "id": "c3dd7edf-6386-4016-beee-3888fde8a2de",
   "metadata": {},
   "outputs": [],
   "source": [
    "#nullardan kurtulmak için\n",
    "df[\"overview\"] = df[\"overview\"].fillna(\"\")"
   ]
  },
  {
   "cell_type": "code",
   "execution_count": 9,
   "id": "2e2f13e8-9bcc-40e4-a771-f4c547bb61b9",
   "metadata": {},
   "outputs": [],
   "source": [
    "tfidf_matrix = tfidf.fit_transform(df[\"overview\"])"
   ]
  },
  {
   "cell_type": "code",
   "execution_count": 10,
   "id": "87a3d013-6e17-495d-96e7-de09850b8030",
   "metadata": {},
   "outputs": [
    {
     "data": {
      "text/plain": [
       "(45466, 75827)"
      ]
     },
     "execution_count": 10,
     "metadata": {},
     "output_type": "execute_result"
    }
   ],
   "source": [
    "tfidf_matrix.shape"
   ]
  },
  {
   "cell_type": "code",
   "execution_count": 11,
   "id": "0423e551-bd5b-4a75-8ae4-be672475570f",
   "metadata": {},
   "outputs": [],
   "source": [
    "#tfidf.get_feature_names() bütün kelimeleri getirir"
   ]
  },
  {
   "cell_type": "code",
   "execution_count": 12,
   "id": "5f43f3f5-9b75-4bb9-a24f-8d207f91d3a3",
   "metadata": {},
   "outputs": [
    {
     "data": {
      "text/plain": [
       "array([[0., 0., 0., ..., 0., 0., 0.],\n",
       "       [0., 0., 0., ..., 0., 0., 0.],\n",
       "       [0., 0., 0., ..., 0., 0., 0.],\n",
       "       ...,\n",
       "       [0., 0., 0., ..., 0., 0., 0.],\n",
       "       [0., 0., 0., ..., 0., 0., 0.],\n",
       "       [0., 0., 0., ..., 0., 0., 0.]])"
      ]
     },
     "execution_count": 12,
     "metadata": {},
     "output_type": "execute_result"
    }
   ],
   "source": [
    "tfidf_matrix.toarray()"
   ]
  },
  {
   "cell_type": "markdown",
   "id": "c15e089b-bb89-4794-82b3-5216d262852e",
   "metadata": {},
   "source": [
    "## Cosine Similarity Matrisinin Oluşturulması"
   ]
  },
  {
   "cell_type": "code",
   "execution_count": 13,
   "id": "464d0997-72e2-45b2-af44-719963f487db",
   "metadata": {},
   "outputs": [],
   "source": [
    "cosine_sim = cosine_similarity(tfidf_matrix, tfidf_matrix)"
   ]
  },
  {
   "cell_type": "code",
   "execution_count": 15,
   "id": "03cc316e-a03d-4c6c-872e-3a17a86ab63a",
   "metadata": {},
   "outputs": [
    {
     "data": {
      "text/plain": [
       "(45466, 45466)"
      ]
     },
     "execution_count": 15,
     "metadata": {},
     "output_type": "execute_result"
    }
   ],
   "source": [
    "cosine_sim.shape"
   ]
  },
  {
   "cell_type": "code",
   "execution_count": 17,
   "id": "822d39cb-ee4f-49d4-adac-0c3acf278b0c",
   "metadata": {},
   "outputs": [
    {
     "data": {
      "text/plain": [
       "array([0.01504121, 1.        , 0.04681953, ..., 0.        , 0.02198641,\n",
       "       0.00929411])"
      ]
     },
     "execution_count": 17,
     "metadata": {},
     "output_type": "execute_result"
    }
   ],
   "source": [
    "#burada 1.indexdeki filmin diğer bütün filmler ile benzerlik skorları var\n",
    "cosine_sim[1]"
   ]
  },
  {
   "cell_type": "markdown",
   "id": "e99fe822-e8cf-4a65-b5de-c5371c1cb8ab",
   "metadata": {},
   "source": [
    "## Benzerliklere Göre Önerilerin Yapılması"
   ]
  },
  {
   "cell_type": "code",
   "execution_count": 19,
   "id": "6a2f3356-a982-4383-aa18-8445fd822878",
   "metadata": {},
   "outputs": [
    {
     "data": {
      "text/plain": [
       "title\n",
       "Toy Story                          0\n",
       "Jumanji                            1\n",
       "Grumpier Old Men                   2\n",
       "Waiting to Exhale                  3\n",
       "Father of the Bride Part II        4\n",
       "                               ...  \n",
       "Subdue                         45461\n",
       "Century of Birthing            45462\n",
       "Betrayal                       45463\n",
       "Satan Triumphant               45464\n",
       "Queerama                       45465\n",
       "Length: 45466, dtype: int64"
      ]
     },
     "execution_count": 19,
     "metadata": {},
     "output_type": "execute_result"
    }
   ],
   "source": [
    "#her bir filmin ismi ve bu filmlerin index bilgisi var\n",
    "indices = pd.Series(df.index, index=df[\"title\"])\n",
    "indices"
   ]
  },
  {
   "cell_type": "code",
   "execution_count": 20,
   "id": "1b65db05-639b-4287-873b-8270c0a2192d",
   "metadata": {},
   "outputs": [
    {
     "data": {
      "text/plain": [
       "Cinderella              11\n",
       "Hamlet                   9\n",
       "Alice in Wonderland      9\n",
       "Beauty and the Beast     8\n",
       "Les Misérables           8\n",
       "                        ..\n",
       "Cluny Brown              1\n",
       "Babies                   1\n",
       "The Green Room           1\n",
       "Captain Conan            1\n",
       "Queerama                 1\n",
       "Name: title, Length: 42277, dtype: int64"
      ]
     },
     "execution_count": 20,
     "metadata": {},
     "output_type": "execute_result"
    }
   ],
   "source": [
    "indices.index.value_counts()"
   ]
  },
  {
   "cell_type": "code",
   "execution_count": 21,
   "id": "2e6f1fde-6048-4efc-84fd-1445e6887da0",
   "metadata": {},
   "outputs": [
    {
     "data": {
      "text/plain": [
       "Toy Story                   1\n",
       "Russell Madness             1\n",
       "Attack of the Sabretooth    1\n",
       "The Millennials             1\n",
       "X/Y                         1\n",
       "                           ..\n",
       "Wife! Be Like a Rose!       1\n",
       "Adelheid                    1\n",
       "PEEPLI [Live]               1\n",
       "The Moth                    1\n",
       "Queerama                    1\n",
       "Name: title, Length: 42277, dtype: int64"
      ]
     },
     "execution_count": 21,
     "metadata": {},
     "output_type": "execute_result"
    }
   ],
   "source": [
    "# Çoklama problemi\n",
    "indices = indices[~indices.index.duplicated(keep = \"last\")]\n",
    "indices.index.value_counts()"
   ]
  },
  {
   "cell_type": "code",
   "execution_count": 23,
   "id": "1084a053-abd2-4b91-bca4-a89d09efe326",
   "metadata": {},
   "outputs": [],
   "source": [
    "movie_index= indices[\"Sherlock Holmes\"]"
   ]
  },
  {
   "cell_type": "code",
   "execution_count": 25,
   "id": "a81671e2-2ac9-43d6-910a-a232b15136e5",
   "metadata": {},
   "outputs": [
    {
     "data": {
      "text/html": [
       "<div>\n",
       "<style scoped>\n",
       "    .dataframe tbody tr th:only-of-type {\n",
       "        vertical-align: middle;\n",
       "    }\n",
       "\n",
       "    .dataframe tbody tr th {\n",
       "        vertical-align: top;\n",
       "    }\n",
       "\n",
       "    .dataframe thead th {\n",
       "        text-align: right;\n",
       "    }\n",
       "</style>\n",
       "<table border=\"1\" class=\"dataframe\">\n",
       "  <thead>\n",
       "    <tr style=\"text-align: right;\">\n",
       "      <th></th>\n",
       "      <th>score</th>\n",
       "    </tr>\n",
       "  </thead>\n",
       "  <tbody>\n",
       "    <tr>\n",
       "      <th>0</th>\n",
       "      <td>0.000000</td>\n",
       "    </tr>\n",
       "    <tr>\n",
       "      <th>1</th>\n",
       "      <td>0.003928</td>\n",
       "    </tr>\n",
       "    <tr>\n",
       "      <th>2</th>\n",
       "      <td>0.004768</td>\n",
       "    </tr>\n",
       "    <tr>\n",
       "      <th>3</th>\n",
       "      <td>0.000000</td>\n",
       "    </tr>\n",
       "    <tr>\n",
       "      <th>4</th>\n",
       "      <td>0.000000</td>\n",
       "    </tr>\n",
       "  </tbody>\n",
       "</table>\n",
       "</div>"
      ],
      "text/plain": [
       "      score\n",
       "0  0.000000\n",
       "1  0.003928\n",
       "2  0.004768\n",
       "3  0.000000\n",
       "4  0.000000"
      ]
     },
     "execution_count": 25,
     "metadata": {},
     "output_type": "execute_result"
    }
   ],
   "source": [
    "similarity_scores = pd.DataFrame(cosine_sim[movie_index],columns=[\"score\"])\n",
    "similarity_scores.head()"
   ]
  },
  {
   "cell_type": "code",
   "execution_count": 31,
   "id": "69c6ddba-af38-4072-97b1-351b562e1f01",
   "metadata": {},
   "outputs": [],
   "source": [
    "movie_indices = similarity_scores.sort_values(\"score\", ascending = False)[1:11].index"
   ]
  },
  {
   "cell_type": "code",
   "execution_count": 32,
   "id": "3dea012d-361c-4bb1-a913-bcc700018c37",
   "metadata": {},
   "outputs": [
    {
     "data": {
      "text/plain": [
       "34737    Приключения Шерлока Холмса и доктора Ватсона: ...\n",
       "14821                                    The Royal Scandal\n",
       "34750    The Adventures of Sherlock Holmes and Doctor W...\n",
       "9743                           The Seven-Per-Cent Solution\n",
       "4434                                        Without a Clue\n",
       "29706                       How Sherlock Changed the World\n",
       "18258                   Sherlock Holmes: A Game of Shadows\n",
       "24665     The Sign of Four: Sherlock Holmes' Greatest Case\n",
       "6432                   The Private Life of Sherlock Holmes\n",
       "29154                          Sherlock Holmes in New York\n",
       "Name: title, dtype: object"
      ]
     },
     "execution_count": 32,
     "metadata": {},
     "output_type": "execute_result"
    }
   ],
   "source": [
    "df[\"title\"].iloc[movie_indices]"
   ]
  },
  {
   "cell_type": "markdown",
   "id": "d073d46e-62bf-4db9-a043-4e34dcd607a5",
   "metadata": {},
   "source": [
    "## Çalışmanın Scriptini Hazırlama"
   ]
  },
  {
   "cell_type": "code",
   "execution_count": 33,
   "id": "7ebb7c13-f3b3-445f-a3d9-6531102b1501",
   "metadata": {},
   "outputs": [],
   "source": [
    "def content_based_recommender(title, cosine_sim, df):\n",
    "    #İndexleri oluşturma\n",
    "    indices = pd.Series(df.index, index=df[\"title\"])\n",
    "    indices = indices[~indices.index.duplicated(keep=\"last\")]\n",
    "    #Title'ın indexini yakalama\n",
    "    movie_index = indices[title]\n",
    "    #title'a göre benzerlik skoru hesaplama\n",
    "    similarity_scores = pd.DataFrame(cosine_sim[movie_index], columns=[\"score\"])\n",
    "    #kendisi hariç ilk 10 film getirme\n",
    "    movie_indices = similarity_scores.sort_values(\"score\", ascending=False)[1:11].index\n",
    "    return df[\"title\"].iloc[movie_indices]"
   ]
  },
  {
   "cell_type": "code",
   "execution_count": 34,
   "id": "cc82f3a3-67e9-4c51-be8e-8df1a6e68b11",
   "metadata": {},
   "outputs": [
    {
     "data": {
      "text/plain": [
       "15348                                     Toy Story 3\n",
       "2997                                      Toy Story 2\n",
       "10301                          The 40 Year Old Virgin\n",
       "24523                                       Small Fry\n",
       "23843                     Andy Hardy's Blonde Trouble\n",
       "29202                                      Hot Splash\n",
       "43427                Andy Kaufman Plays Carnegie Hall\n",
       "38476    Superstar: The Life and Times of Andy Warhol\n",
       "42721    Andy Peters: Exclamation Mark Question Point\n",
       "8327                                        The Champ\n",
       "Name: title, dtype: object"
      ]
     },
     "execution_count": 34,
     "metadata": {},
     "output_type": "execute_result"
    }
   ],
   "source": [
    "content_based_recommender(\"Toy Story\", cosine_sim, df)"
   ]
  },
  {
   "cell_type": "code",
   "execution_count": 36,
   "id": "21a57467-0c2c-4401-9862-e0ffb6eca06c",
   "metadata": {},
   "outputs": [
    {
     "data": {
      "text/plain": [
       "44161                        A Detective Story\n",
       "44167                              Kid's Story\n",
       "44163                             World Record\n",
       "33854                                Algorithm\n",
       "167                                    Hackers\n",
       "20707    Underground: The Julian Assange Story\n",
       "6515                                  Commando\n",
       "24202                                 Who Am I\n",
       "22085                           Berlin Express\n",
       "9159                                  Takedown\n",
       "Name: title, dtype: object"
      ]
     },
     "execution_count": 36,
     "metadata": {},
     "output_type": "execute_result"
    }
   ],
   "source": [
    "content_based_recommender(\"The Matrix\", cosine_sim, df)"
   ]
  },
  {
   "cell_type": "code",
   "execution_count": 38,
   "id": "d23896db-3d36-4e38-a979-f6a99ebeebf0",
   "metadata": {},
   "outputs": [
    {
     "data": {
      "text/plain": [
       "1178               The Godfather: Part II\n",
       "44030    The Godfather Trilogy: 1972-1990\n",
       "1914              The Godfather: Part III\n",
       "23126                          Blood Ties\n",
       "11297                    Household Saints\n",
       "34717                   Start Liquidation\n",
       "10821                            Election\n",
       "38030            A Mother Should Be Loved\n",
       "17729                   Short Sharp Shock\n",
       "26293                  Beck 28 - Familjen\n",
       "Name: title, dtype: object"
      ]
     },
     "execution_count": 38,
     "metadata": {},
     "output_type": "execute_result"
    }
   ],
   "source": [
    "content_based_recommender(\"The Godfather\", cosine_sim, df)"
   ]
  },
  {
   "cell_type": "code",
   "execution_count": 40,
   "id": "da82c3ce-1e3f-4362-a5d5-116e07be5608",
   "metadata": {},
   "outputs": [
    {
     "data": {
      "text/plain": [
       "34799                      Pardon\n",
       "34821           Borderline Normal\n",
       "32888                Tiger Orange\n",
       "18570              Beautiful Kate\n",
       "4020     The Million Dollar Hotel\n",
       "5807                About Schmidt\n",
       "33284                    Airborne\n",
       "2887                Train of Life\n",
       "33246        Hotel Transylvania 2\n",
       "35018       Hook, Line and Sinker\n",
       "Name: title, dtype: object"
      ]
     },
     "execution_count": 40,
     "metadata": {},
     "output_type": "execute_result"
    }
   ],
   "source": [
    "content_based_recommender(\"Winter Sleep\", cosine_sim, df)"
   ]
  }
 ],
 "metadata": {
  "kernelspec": {
   "display_name": "Python 3 (ipykernel)",
   "language": "python",
   "name": "python3"
  },
  "language_info": {
   "codemirror_mode": {
    "name": "ipython",
    "version": 3
   },
   "file_extension": ".py",
   "mimetype": "text/x-python",
   "name": "python",
   "nbconvert_exporter": "python",
   "pygments_lexer": "ipython3",
   "version": "3.9.13"
  }
 },
 "nbformat": 4,
 "nbformat_minor": 5
}
